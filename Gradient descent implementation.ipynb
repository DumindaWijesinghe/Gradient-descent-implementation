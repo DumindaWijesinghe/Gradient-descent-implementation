{
 "cells": [
  {
   "cell_type": "code",
   "execution_count": 1,
   "metadata": {},
   "outputs": [],
   "source": [
    "import numpy as np\n",
    "import matplotlib.pyplot as plt\n",
    "%matplotlib inline"
   ]
  },
  {
   "cell_type": "code",
   "execution_count": 231,
   "metadata": {},
   "outputs": [
    {
     "name": "stdout",
     "output_type": "stream",
     "text": [
      "inputs:\t [[1 2 3 4 5]] \n",
      "outputs: [[ 3  6  9 12 15]]\n",
      "weight: [[1.76405235 1.76405235 1.76405235 1.76405235 1.76405235]] \n",
      "bias: [[0.40015721 0.40015721 0.40015721 0.40015721 0.40015721]] \n",
      "activation: [[2.16420955 3.9282619  5.69231425 7.45636659 9.22041894]]\n",
      "weight:  [2.6302523] bias:  [0.71394367]\n"
     ]
    },
    {
     "data": {
      "image/png": "[encoded data removed]",
      "text/plain": [
       "<Figure size 432x288 with 1 Axes>"
      ]
     },
     "metadata": {},
     "output_type": "display_data"
    }
   ],
   "source": [
    "x_e = np.array([1,2,3,4,5]).reshape(1,5)\n",
    "y_e = np.array([3,6,9,12,15]).reshape(1,5)\n",
    "\n",
    "print('inputs:\\t',x_e,'\\noutputs:',y_e)\n",
    "\n",
    "np.random.seed(0)\n",
    "\n",
    "w = np.random.randn()*np.ones((1,x_e.size))\n",
    "b = np.random.randn()*np.ones((1,x_e.size))\n",
    "a = (x_e*w)+b\n",
    "print('weight:',w,'\\nbias:',b,'\\nactivation:',a)\n",
    "\n",
    "alpha = 0.1 # learning rate\n",
    "epochs = 20\n",
    "err = []\n",
    "\n",
    "for i in range(epochs):\n",
    "    dw = ((x_e*2)*(w*x_e+b-y_e))/x_e.size # derivative of J with respect to w\n",
    "    db = (2*(w*x_e+b-y_e))/x_e.size       # derivative of J with respect to b\n",
    "    \n",
    "    w -= alpha*dw # weight update\n",
    "    b -= alpha*db # bias update\n",
    "    a = (x_e*w)+b # activation \n",
    "    err.append(np.sum((y_e-a)**2,axis=1)/x_e.size) # calculate MSE for visualizaton\n",
    "    \n",
    "print('weight: ',np.sum(w,axis=1)/w.size,'bias: ',np.sum(b,axis=1)/b.size) # final weight and bias\n",
    "\n",
    "\n",
    "plt.plot(range(epochs),err)\n",
    "plt.title('Training')\n",
    "plt.xlabel('epochs')\n",
    "plt.ylabel('mean squared error')\n",
    "plt.grid(True)"
   ]
  },
  {
   "cell_type": "markdown",
   "metadata": {},
   "source": [
    "### Derivatives of J with respect to w and b\n"
   ]
  },
  {
   "cell_type": "markdown",
   "metadata": {},
   "source": [
    "$$ \\large J(w,b)=\\frac{1}{m}\\sum_{i=1}^m\\left(\\hat{y_{i}}-y_{i}\\right)^2 $$\n",
    "\n",
    "$$ J(w,b)=\\frac{1}{m}\\sum_{i=1}^m\\left((wx_{i} + b)-y_{i}\\right)^2 $$\n",
    "\n",
    "$$\\frac{\\text{d}}{\\text{d}w}J(w,b)=\\frac{\\text{d}}{\\text{d}w}\\left(\\frac{1}{m}\\sum_{i=1}^m\\left((wx_{i} + b)-y_{i}\\right)^2\\right) = \\frac{\\text{2x}}{\\text{m}}\\left((wx_{i} + b)-y_{i}\\right).dw$$\n",
    "\n",
    "$$\\frac{\\text{d}}{\\text{d}b}J(w,b)=\\frac{\\text{d}}{\\text{d}b}\\left(\\frac{1}{m}\\sum_{i=1}^m\\left((wx_{i} + b)-y_{i}\\right)^2\\right) = \\frac{\\text{2}}{\\text{m}}\\left((wx_{i} + b)-y_{i}\\right).db$$"
   ]
  },
  {
   "cell_type": "code",
   "execution_count": null,
   "metadata": {},
   "outputs": [],
   "source": []
  }
 ],
 "metadata": {
  "kernelspec": {
   "display_name": "Python 3",
   "language": "python",
   "name": "python3"
  },
  "language_info": {
   "codemirror_mode": {
    "name": "ipython",
    "version": 3
   },
   "file_extension": ".py",
   "mimetype": "text/x-python",
   "name": "python",
   "nbconvert_exporter": "python",
   "pygments_lexer": "ipython3",
   "version": "3.6.5"
  }
 },
 "nbformat": 4,
 "nbformat_minor": 2
}
